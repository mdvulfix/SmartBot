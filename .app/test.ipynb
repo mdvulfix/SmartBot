{
 "cells": [
  {
   "cell_type": "code",
   "execution_count": 15,
   "id": "1d4259be",
   "metadata": {},
   "outputs": [
    {
     "name": "stderr",
     "output_type": "stream",
     "text": [
      "Unclosed client session\n",
      "client_session: <aiohttp.client.ClientSession object at 0x000001758550E350>\n"
     ]
    },
    {
     "ename": "TypeError",
     "evalue": "'OkxExchange' object does not support the asynchronous context manager protocol",
     "output_type": "error",
     "traceback": [
      "\u001b[31m---------------------------------------------------------------------------\u001b[39m",
      "\u001b[31mTypeError\u001b[39m                                 Traceback (most recent call last)",
      "\u001b[36mCell\u001b[39m\u001b[36m \u001b[39m\u001b[32mIn[15]\u001b[39m\u001b[32m, line 67\u001b[39m\n\u001b[32m     64\u001b[39m         \u001b[38;5;28mprint\u001b[39m(\u001b[33mf\u001b[39m\u001b[33m\"\u001b[39m\u001b[33mCanceled orders: \u001b[39m\u001b[38;5;132;01m{\u001b[39;00mcanceled_ids\u001b[38;5;132;01m}\u001b[39;00m\u001b[33m\"\u001b[39m)\n\u001b[32m     65\u001b[39m         \u001b[38;5;28mprint\u001b[39m(\u001b[33mf\u001b[39m\u001b[33m\"\u001b[39m\u001b[33mAll created orders canceled: \u001b[39m\u001b[38;5;132;01m{\u001b[39;00m\u001b[38;5;28mset\u001b[39m(order_ids)\u001b[38;5;250m \u001b[39m==\u001b[38;5;250m \u001b[39m\u001b[38;5;28mset\u001b[39m(canceled_ids)\u001b[38;5;132;01m}\u001b[39;00m\u001b[33m\"\u001b[39m)\n\u001b[32m---> \u001b[39m\u001b[32m67\u001b[39m \u001b[38;5;28;01mawait\u001b[39;00m main()\n",
      "\u001b[36mCell\u001b[39m\u001b[36m \u001b[39m\u001b[32mIn[15]\u001b[39m\u001b[32m, line 18\u001b[39m, in \u001b[36mmain\u001b[39m\u001b[34m()\u001b[39m\n\u001b[32m     17\u001b[39m \u001b[38;5;28;01masync\u001b[39;00m \u001b[38;5;28;01mdef\u001b[39;00m\u001b[38;5;250m \u001b[39m\u001b[34mmain\u001b[39m():\n\u001b[32m---> \u001b[39m\u001b[32m18\u001b[39m     \u001b[38;5;28;01masync\u001b[39;00m \u001b[38;5;28;01mwith\u001b[39;00m OkxExchange() \u001b[38;5;28;01mas\u001b[39;00m exchange:\n\u001b[32m     19\u001b[39m         \u001b[38;5;66;03m# Тест получения баланса\u001b[39;00m\n\u001b[32m     20\u001b[39m         \u001b[38;5;28mprint\u001b[39m(\u001b[33m\"\u001b[39m\u001b[38;5;130;01m\\n\u001b[39;00m\u001b[33m=== Testing get_balance ===\u001b[39m\u001b[33m\"\u001b[39m)\n\u001b[32m     21\u001b[39m         balance = \u001b[38;5;28;01mawait\u001b[39;00m exchange.get_balance(\u001b[33m\"\u001b[39m\u001b[33mUSDT\u001b[39m\u001b[33m\"\u001b[39m)\n",
      "\u001b[31mTypeError\u001b[39m: 'OkxExchange' object does not support the asynchronous context manager protocol"
     ]
    }
   ],
   "source": [
    "import asyncio\n",
    "from decimal import Decimal\n",
    "from exchange import OkxExchange\n",
    "import nest_asyncio\n",
    "nest_asyncio.apply()\n",
    "\n",
    "async def close(self):\n",
    "    if not self._session.closed:\n",
    "        await self._session.close()\n",
    "\n",
    "async def __aenter__(self):\n",
    "    return self\n",
    "\n",
    "async def __aexit__(self, exc_type, exc, tb):\n",
    "    await self.close()\n",
    "\n",
    "async def main():\n",
    "    async with OkxExchange() as exchange:\n",
    "        # Тест получения баланса\n",
    "        print(\"\\n=== Testing get_balance ===\")\n",
    "        balance = await exchange.get_balance(\"USDT\")\n",
    "        print(f\"USDT balance: {balance} ({type(balance)})\")\n",
    "        \n",
    "        # Тест получения цены\n",
    "        print(\"\\n=== Testing get_symbol_price ===\")\n",
    "        symbol = \"BTC-USDT\"\n",
    "        price = await exchange.get_symbol_price(symbol)\n",
    "        print(f\"{symbol} price: {price} ({type(price)})\")\n",
    "        \n",
    "        # Тест ордеров\n",
    "        print(\"\\n=== Testing orders ===\")\n",
    "        test_price = Decimal(price * 0.5)  # 50% от текущей цены\n",
    "        \n",
    "        # Размещение ордера\n",
    "        order_id = await exchange.place_order(\n",
    "            symbol=symbol,\n",
    "            side=\"buy\",\n",
    "            price=test_price,\n",
    "            size=Decimal(\"0.001\"),\n",
    "            td_mode=\"isolated\"\n",
    "        )\n",
    "        print(f\"Placed order ID: {order_id}\")\n",
    "        \n",
    "        # Отмена одного ордера\n",
    "        if order_id:\n",
    "            canceled = await exchange.cancel_order(symbol, order_id)\n",
    "            print(f\"Cancel single order: {'Success' if canceled else 'Failed'}\")\n",
    "        \n",
    "        # Массовое создание и отмена ордеров\n",
    "        order_ids = []\n",
    "        for _ in range(3):\n",
    "            oid = await exchange.place_order(\n",
    "                symbol=symbol,\n",
    "                side=\"buy\",\n",
    "                price=test_price,\n",
    "                size=Decimal(\"0.001\")\n",
    "            )\n",
    "            if oid:\n",
    "                order_ids.append(oid)\n",
    "                print(f\"Created order: {oid}\")\n",
    "        \n",
    "        # Отмена всех ордеров\n",
    "        canceled_ids = await exchange.cancel_all_orders(symbol)\n",
    "        print(f\"Canceled orders: {canceled_ids}\")\n",
    "        print(f\"All created orders canceled: {set(order_ids) == set(canceled_ids)}\")\n",
    "\n",
    "await main()"
   ]
  }
 ],
 "metadata": {
  "kernelspec": {
   "display_name": ".venv",
   "language": "python",
   "name": "python3"
  },
  "language_info": {
   "codemirror_mode": {
    "name": "ipython",
    "version": 3
   },
   "file_extension": ".py",
   "mimetype": "text/x-python",
   "name": "python",
   "nbconvert_exporter": "python",
   "pygments_lexer": "ipython3",
   "version": "3.13.2"
  }
 },
 "nbformat": 4,
 "nbformat_minor": 5
}

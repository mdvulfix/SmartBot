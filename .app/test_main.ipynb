{
 "cells": [
  {
   "cell_type": "code",
   "execution_count": 2,
   "id": "9f5cb6f4",
   "metadata": {},
   "outputs": [],
   "source": [
    "import os\n",
    "import json\n",
    "import logging\n",
    "from logging.handlers import RotatingFileHandler\n",
    "from exchange import OkxExchange\n",
    "from bot import SmartBot\n",
    "\n",
    "# Настройка логирования\n",
    "logger = logging.getLogger(\"SmartBot_v1\")\n",
    "logger.setLevel(logging.INFO)\n",
    "\n",
    "formatter = logging.Formatter('%(asctime)s - %(levelname)s - %(name)s - %(message)s')\n",
    "console_handler = logging.StreamHandler()\n",
    "console_handler.setFormatter(formatter)\n",
    "logger.addHandler(console_handler)\n",
    "\n",
    "file_handler = RotatingFileHandler(\"SmartBot_v1.log\", maxBytes=5 * 1024 * 1024, backupCount=3)\n",
    "file_handler.setFormatter(formatter)\n",
    "logger.addHandler(file_handler)"
   ]
  },
  {
   "cell_type": "code",
   "execution_count": 3,
   "id": "07015e4f",
   "metadata": {},
   "outputs": [],
   "source": [
    "# Загрузка конфигурации из JSON\n",
    "CONFIG_PATH = os.path.join(os.getcwd(), \"okx_config.json\")\n",
    "if not os.path.exists(CONFIG_PATH):\n",
    "    logger.error(f\"Конфигурационный файл не найден: {CONFIG_PATH}\")\n",
    "    raise FileNotFoundError(f\"Missing config file: {CONFIG_PATH}\")"
   ]
  },
  {
   "cell_type": "code",
   "execution_count": 4,
   "id": "b05ce651",
   "metadata": {},
   "outputs": [],
   "source": [
    "with open(CONFIG_PATH, \"r\") as f:\n",
    "    config = json.load(f)\n",
    "\n",
    "API_KEY = config.get(\"api_key\")\n",
    "SECRET_KEY = config.get(\"secret_key\")\n",
    "PASSPHRASE = config.get(\"passphrase\")\n",
    "SYMBOL = config.get(\"symbol\", \"BTC-USDT-SWAP\")\n",
    "GRID_NUM = config.get(\"grid_num\", 5)\n",
    "GRID_STEP_PCT = config.get(\"grid_step_pct\", 1.0)\n",
    "ORDER_AMOUNT_USDT = config.get(\"order_amount_usdt\", 10)\n",
    "LEVERAGE = config.get(\"leverage\", 10)\n",
    "DEMO_MODE = config.get(\"demo\", True)"
   ]
  },
  {
   "cell_type": "code",
   "execution_count": 10,
   "id": "523fdb8b",
   "metadata": {},
   "outputs": [
    {
     "name": "stderr",
     "output_type": "stream",
     "text": [
      "2025-07-18 00:31:53,126 - INFO - SmartBot_v1 - Available USDT: 5000\n",
      "2025-07-18 00:31:53,129 - INFO - SmartBot_v1 - Starting bot\n",
      "2025-07-18 00:31:53,842 - INFO - SmartBot_v1 - Created grid with 10 levels.\n",
      "2025-07-18 00:31:54,660 - INFO - SmartBot_v1 - Available USDT: 5000\n",
      "2025-07-18 00:32:25,340 - INFO - SmartBot_v1 - Available USDT: 5000\n",
      "2025-07-18 00:32:56,107 - INFO - SmartBot_v1 - Available USDT: 5000\n",
      "2025-07-18 00:33:26,798 - INFO - SmartBot_v1 - Available USDT: 5000\n",
      "2025-07-18 00:33:57,500 - INFO - SmartBot_v1 - Available USDT: 5000\n",
      "2025-07-18 00:34:28,369 - INFO - SmartBot_v1 - Available USDT: 5000\n",
      "2025-07-18 00:34:59,094 - INFO - SmartBot_v1 - Available USDT: 5000\n",
      "2025-07-18 00:35:29,808 - INFO - SmartBot_v1 - Available USDT: 5000\n",
      "2025-07-18 00:36:00,501 - INFO - SmartBot_v1 - Available USDT: 5000\n",
      "2025-07-18 00:36:31,249 - INFO - SmartBot_v1 - Available USDT: 5000\n",
      "2025-07-18 00:37:01,995 - INFO - SmartBot_v1 - Available USDT: 5000\n",
      "2025-07-18 00:37:32,951 - INFO - SmartBot_v1 - Available USDT: 5000\n"
     ]
    },
    {
     "ename": "",
     "evalue": "",
     "output_type": "error",
     "traceback": [
      "\u001b[1;31mThe Kernel crashed while executing code in the current cell or a previous cell. \n",
      "\u001b[1;31mPlease review the code in the cell(s) to identify a possible cause of the failure. \n",
      "\u001b[1;31mClick <a href='https://aka.ms/vscodeJupyterKernelCrash'>here</a> for more info. \n",
      "\u001b[1;31mView Jupyter <a href='command:jupyter.viewOutput'>log</a> for further details."
     ]
    }
   ],
   "source": [
    "# Запуск бота\n",
    "if __name__ == '__main__':\n",
    "    exchange = OkxExchange(API_KEY, SECRET_KEY, PASSPHRASE, demo=DEMO_MODE)\n",
    "    exchange.get_balance()\n",
    "    \n",
    "    bot = SmartBot(exchange, SYMBOL, GRID_NUM, GRID_STEP_PCT, ORDER_AMOUNT_USDT, LEVERAGE)\n",
    "    bot.run()\n"
   ]
  }
 ],
 "metadata": {
  "kernelspec": {
   "display_name": ".venv",
   "language": "python",
   "name": "python3"
  },
  "language_info": {
   "codemirror_mode": {
    "name": "ipython",
    "version": 3
   },
   "file_extension": ".py",
   "mimetype": "text/x-python",
   "name": "python",
   "nbconvert_exporter": "python",
   "pygments_lexer": "ipython3",
   "version": "3.13.5"
  }
 },
 "nbformat": 4,
 "nbformat_minor": 5
}

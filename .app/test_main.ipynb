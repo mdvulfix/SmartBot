{
 "cells": [
  {
   "cell_type": "code",
   "execution_count": 1,
   "id": "9f5cb6f4",
   "metadata": {},
   "outputs": [],
   "source": [
    "import os\n",
    "import json\n",
    "import logging\n",
    "from logging.handlers import RotatingFileHandler\n",
    "from exchange import OkxExchange\n",
    "from bot import SmartBot\n",
    "\n",
    "# Настройка логирования\n",
    "logger = logging.getLogger(\"SmartBot_v1\")\n",
    "logger.setLevel(logging.INFO)\n",
    "\n",
    "formatter = logging.Formatter('%(asctime)s - %(levelname)s - %(name)s - %(message)s')\n",
    "console_handler = logging.StreamHandler()\n",
    "console_handler.setFormatter(formatter)\n",
    "logger.addHandler(console_handler)\n",
    "\n",
    "file_handler = RotatingFileHandler(\"SmartBot_v1.log\", maxBytes=5 * 1024 * 1024, backupCount=3)\n",
    "file_handler.setFormatter(formatter)\n",
    "logger.addHandler(file_handler)"
   ]
  },
  {
   "cell_type": "code",
   "execution_count": 2,
   "id": "07015e4f",
   "metadata": {},
   "outputs": [],
   "source": [
    "# Загрузка конфигурации из JSON\n",
    "CONFIG_PATH = os.path.join(os.getcwd(), \"okx_config.json\")\n",
    "if not os.path.exists(CONFIG_PATH):\n",
    "    logger.error(f\"Конфигурационный файл не найден: {CONFIG_PATH}\")\n",
    "    raise FileNotFoundError(f\"Missing config file: {CONFIG_PATH}\")"
   ]
  },
  {
   "cell_type": "code",
   "execution_count": 3,
   "id": "b05ce651",
   "metadata": {},
   "outputs": [],
   "source": [
    "with open(CONFIG_PATH, \"r\") as f:\n",
    "    config = json.load(f)\n",
    "\n",
    "API_KEY = config.get(\"api_key\")\n",
    "SECRET_KEY = config.get(\"secret_key\")\n",
    "PASSPHRASE = config.get(\"passphrase\")\n",
    "SYMBOL = config.get(\"symbol\", \"BTC-USDT-SWAP\")\n",
    "GRID_NUM = config.get(\"grid_num\", 5)\n",
    "GRID_STEP_PCT = config.get(\"grid_step_pct\", 1.0)\n",
    "ORDER_AMOUNT_USDT = config.get(\"order_amount_usdt\", 10)\n",
    "LEVERAGE = config.get(\"leverage\", 10)\n",
    "DEMO_MODE = config.get(\"demo\", True)"
   ]
  },
  {
   "cell_type": "code",
   "execution_count": 4,
   "id": "523fdb8b",
   "metadata": {},
   "outputs": [
    {
     "name": "stderr",
     "output_type": "stream",
     "text": [
      "2025-07-24 14:51:50,916 - INFO - SmartBot_v1 - Available USDT: 5000\n"
     ]
    }
   ],
   "source": [
    "# Запуск бота\n",
    "if __name__ == '__main__':\n",
    "    exchange = OkxExchange(API_KEY, SECRET_KEY, PASSPHRASE, demo=DEMO_MODE)\n",
    "    exchange.get_balance()\n",
    "    \n",
    "    bot = SmartBot(exchange, SYMBOL, GRID_NUM, GRID_STEP_PCT, ORDER_AMOUNT_USDT, LEVERAGE)\n",
    "    #bot.run()\n"
   ]
  }
 ],
 "metadata": {
  "kernelspec": {
   "display_name": ".venv",
   "language": "python",
   "name": "python3"
  },
  "language_info": {
   "codemirror_mode": {
    "name": "ipython",
    "version": 3
   },
   "file_extension": ".py",
   "mimetype": "text/x-python",
   "name": "python",
   "nbconvert_exporter": "python",
   "pygments_lexer": "ipython3",
   "version": "3.13.5"
  }
 },
 "nbformat": 4,
 "nbformat_minor": 5
}
